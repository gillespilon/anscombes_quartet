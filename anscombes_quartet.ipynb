{
 "cells": [
  {
   "cell_type": "markdown",
   "metadata": {},
   "source": [
    "# Anscombe's quartet\n",
    "\n",
    "- Create Anscombe's quartet of four graphs as four axes in one figure.\n",
    "- Create Anscombe's quarter of four graphs as four separate figures."
   ]
  },
  {
   "cell_type": "markdown",
   "metadata": {},
   "source": [
    "# Document\n",
    "\n",
    "<table align=\"left\">\n",
    "    <tr>\n",
    "        <th class=\"text-align:left\">Title</th>\n",
    "        <td class=\"text-align:left\">Anscombe's quartet</td>\n",
    "    </tr>\n",
    "    <tr>\n",
    "        <th class=\"text-align:left\">Last modified</th>\n",
    "        <td class=\"text-align:left\">2019-11-25</td>\n",
    "    </tr>\n",
    "    <tr>\n",
    "        <th class=\"text-align:left\">Author</th>\n",
    "        <td class=\"text-align:left\">Gilles Pilon <gillespilon13@gmail.com></td>\n",
    "    </tr>\n",
    "    <tr>\n",
    "        <th class=\"text-align:left\">Status</th>\n",
    "        <td class=\"text-align:left\">Active</td>\n",
    "    </tr>\n",
    "    <tr>\n",
    "        <th class=\"text-align:left\">Type</th>\n",
    "        <td class=\"text-align:left\">Jupyter notebook</td>\n",
    "    </tr>\n",
    "    <tr>\n",
    "        <th class=\"text-align:left\">Created</th>\n",
    "        <td class=\"text-align:left\">2017-07-30</td>\n",
    "    </tr>\n",
    "    <tr>\n",
    "        <th class=\"text-align:left\">File name</th>\n",
    "        <td class=\"text-align:left\">anscombes_quartet.ipynb</td>\n",
    "    </tr>\n",
    "    <tr>\n",
    "        <th class=\"text-align:left\">Other files required</th>\n",
    "        <td class=\"text-align:left\">aq1.csv<br />aq2.csv<br />aq3.csv<br />aq4.csv</td>\n",
    "    </tr>\n",
    "</table>"
   ]
  },
  {
   "cell_type": "code",
   "execution_count": null,
   "metadata": {},
   "outputs": [],
   "source": [
    "import pandas as pd\n",
    "import matplotlib.pyplot as plt\n",
    "from numpy.polynomial import polynomial as nppoly\n",
    "import matplotlib.cm as cm\n",
    "import matplotlib.axes as axes\n",
    "from matplotlib.gridspec import GridSpec\n",
    "\n",
    "\n",
    "%matplotlib inline\n",
    "%config InlineBackend.figure_format = 'svg'"
   ]
  },
  {
   "cell_type": "code",
   "execution_count": null,
   "metadata": {},
   "outputs": [],
   "source": [
    "def despine(ax: axes.Axes) -> None:\n",
    "    '''\n",
    "    Remove the top and right spines of a graph.\n",
    "\n",
    "    Used to enforce standard and *correct* style. There is only one x,\n",
    "    and one y axis, left and bottom, therefore there should only be\n",
    "    these axes.\n",
    "    '''\n",
    "    for spine in 'right', 'top':\n",
    "        ax.spines[spine].set_visible(False)"
   ]
  },
  {
   "cell_type": "code",
   "execution_count": null,
   "metadata": {},
   "outputs": [],
   "source": [
    "def plot_scatter(dfx, dfy, i, j):\n",
    "    '''\n",
    "    Plot each Anscombe Quartet graph in a figure by itself.\n",
    "    '''\n",
    "    fig = plt.figure(figsize=fighw)\n",
    "    fig.suptitle(fig_title, fontweight='bold')\n",
    "    ax = fig.add_subplot(111)\n",
    "    ax.scatter(dfx, dfy,\n",
    "               color=c[0], linewidth=0,\n",
    "               linestyle=\"-\", s=10, label=\"I\")\n",
    "    b, m = nppoly.polyfit(dfx, dfy, 1)\n",
    "    ax.plot(dfx, m*dfx + b, '-', color=c[1])\n",
    "    ax.set_ylim(ylim)\n",
    "    ax.set_xlim(xlim)\n",
    "    ax.set_title(ax_title[i][j])\n",
    "    ax.set_ylabel(yaxislabel)\n",
    "    ax.set_xlabel(xaxislabel)\n",
    "    despine(ax)\n",
    "    return ax"
   ]
  },
  {
   "cell_type": "code",
   "execution_count": null,
   "metadata": {},
   "outputs": [],
   "source": [
    "def read_files():\n",
    "    '''\n",
    "    Read each of the Anscombe Quartet data files into a separate dataframe.\n",
    "    '''\n",
    "    aq1 = pd.read_csv('aq1.csv')\n",
    "    aq2 = pd.read_csv('aq2.csv')\n",
    "    aq3 = pd.read_csv('aq3.csv')\n",
    "    aq4 = pd.read_csv('aq4.csv')\n",
    "    return aq1, aq2, aq3, aq4"
   ]
  },
  {
   "cell_type": "code",
   "execution_count": null,
   "metadata": {},
   "outputs": [],
   "source": [
    "def plot_one_in_four(df):\n",
    "    '''\n",
    "    Plot each Anscombe Quartet graph in a figure by itself.\n",
    "    '''\n",
    "    for i in range(2):\n",
    "        for j in range(2):\n",
    "            plot_scatter(df[i][j]['x'], df[i][j]['y'], i, j)\n",
    "            plt.savefig(f'aq{i}{j}.svg')"
   ]
  },
  {
   "cell_type": "code",
   "execution_count": null,
   "metadata": {},
   "outputs": [],
   "source": [
    "def plot_four_in_one(df):\n",
    "    '''\n",
    "    Plot each Anscombe Quartet graph in an axes within a figure.\n",
    "    '''\n",
    "    fig = plt.figure(figsize=(fighw))\n",
    "    fig.suptitle(fig_title, fontweight=\"bold\")\n",
    "    gs = GridSpec(2, 2, figure=fig)\n",
    "    for i in range(2):\n",
    "        for j in range(2):\n",
    "            ax = fig.add_subplot(gs[i, j])\n",
    "            ax.scatter(df[i][j]['x'], df[i][j]['y'],\n",
    "                       color=c[0], linewidth=0,\n",
    "                       linestyle=\"-\", s=10)\n",
    "            b, m = nppoly.polyfit(df[i][j]['x'], df[i][j]['y'], 1)\n",
    "            ax.plot(df[i][j]['x'], m*df[i][j]['x'] + \\\n",
    "                    b, '-', color=c[1])\n",
    "            ax.set_ylim(ylim)\n",
    "            ax.set_xlim(xlim)\n",
    "            ax.set_title(ax_title[i][j])\n",
    "            ax.set_ylabel(yaxislabel)\n",
    "            ax.set_xlabel(xaxislabel)\n",
    "            despine(ax)\n",
    "    plt.tight_layout(pad=3)\n",
    "    plt.savefig('aq.svg')"
   ]
  },
  {
   "cell_type": "code",
   "execution_count": null,
   "metadata": {
    "scrolled": false
   },
   "outputs": [],
   "source": [
    "if __name__ == '__main__':\n",
    "    fig_title = \"Anscombe's Quartet\"\n",
    "    ax_title = [('Data set I', 'Data set II'),\n",
    "                ('Data set III', 'Dataset IV')]\n",
    "    yaxislabel = 'Y'\n",
    "    xaxislabel = 'X'\n",
    "    xlim = [2, 20]\n",
    "    ylim = [2, 14]\n",
    "    fighw = [8, 6]\n",
    "    c = cm.Paired.colors\n",
    "    aq1, aq2, aq3, aq4 = read_files()\n",
    "    df = [(aq1, aq2), (aq3, aq4)]\n",
    "    plot_four_in_one(df)\n",
    "    plot_one_in_four(df)"
   ]
  },
  {
   "cell_type": "markdown",
   "metadata": {},
   "source": [
    "# References\n",
    "\n",
    "[Wikipedia Anscombe's Quartet](https://en.wikipedia.org/wiki/Anscombe%27s_quartet)\n",
    "\n",
    "[matplotlib API overview](https://matplotlib.org/api/index.html)\n",
    "\n",
    "[matplotlib API index](https://matplotlib.org/genindex.html)\n",
    "\n",
    "[matplotlib.tight_layout module](https://matplotlib.org/api/tight_layout_api.html#module-matplotlib.tight_layout)\n",
    "\n",
    "[numpy.polynomial.polynomial.polyfit](https://docs.scipy.org/doc/numpy/reference/generated/numpy.polynomial.polynomial.polyfit.html#numpy.polynomial.polynomial.polyfit)"
   ]
  }
 ],
 "metadata": {
  "kernelspec": {
   "display_name": "Python 3",
   "language": "python",
   "name": "python3"
  },
  "language_info": {
   "codemirror_mode": {
    "name": "ipython",
    "version": 3
   },
   "file_extension": ".py",
   "mimetype": "text/x-python",
   "name": "python",
   "nbconvert_exporter": "python",
   "pygments_lexer": "ipython3",
   "version": "3.8.0"
  },
  "varInspector": {
   "cols": {
    "lenName": 16,
    "lenType": 16,
    "lenVar": 40
   },
   "kernels_config": {
    "python": {
     "delete_cmd_postfix": "",
     "delete_cmd_prefix": "del ",
     "library": "var_list.py",
     "varRefreshCmd": "print(var_dic_list())"
    },
    "r": {
     "delete_cmd_postfix": ") ",
     "delete_cmd_prefix": "rm(",
     "library": "var_list.r",
     "varRefreshCmd": "cat(var_dic_list()) "
    }
   },
   "types_to_exclude": [
    "module",
    "function",
    "builtin_function_or_method",
    "instance",
    "_Feature"
   ],
   "window_display": false
  }
 },
 "nbformat": 4,
 "nbformat_minor": 2
}
