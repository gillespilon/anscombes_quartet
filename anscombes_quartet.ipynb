{
 "cells": [
  {
   "cell_type": "markdown",
   "metadata": {},
   "source": [
    "# Anscombe's quartet"
   ]
  },
  {
   "cell_type": "markdown",
   "metadata": {},
   "source": [
    "# Document\n",
    "\n",
    "<table align=\"left\">\n",
    "    <tr>\n",
    "        <th class=\"text-align:left\">Title</th>\n",
    "        <td class=\"text-align:left\">Anscombe's quartet</td>\n",
    "    </tr>\n",
    "    <tr>\n",
    "        <th class=\"text-align:left\">Last modified</th>\n",
    "        <td class=\"text-align:left\">2019-11-14</td>\n",
    "    </tr>\n",
    "    <tr>\n",
    "        <th class=\"text-align:left\">Author</th>\n",
    "        <td class=\"text-align:left\">Gilles Pilon <gillespilon13@gmail.com></td>\n",
    "    </tr>\n",
    "    <tr>\n",
    "        <th class=\"text-align:left\">Status</th>\n",
    "        <td class=\"text-align:left\">Active</td>\n",
    "    </tr>\n",
    "    <tr>\n",
    "        <th class=\"text-align:left\">Type</th>\n",
    "        <td class=\"text-align:left\">Jupyter notebook</td>\n",
    "    </tr>\n",
    "    <tr>\n",
    "        <th class=\"text-align:left\">Created</th>\n",
    "        <td class=\"text-align:left\">2017-07-30</td>\n",
    "    </tr>\n",
    "    <tr>\n",
    "        <th class=\"text-align:left\">File name</th>\n",
    "        <td class=\"text-align:left\">anscombes_quartet.ipynb</td>\n",
    "    </tr>\n",
    "    <tr>\n",
    "        <th class=\"text-align:left\">Other files required</th>\n",
    "        <td class=\"text-align:left\">aq1.csv<br />aq2.csv<br />aq3.csv<br />aq4.csv</td>\n",
    "    </tr>\n",
    "</table>"
   ]
  },
  {
   "cell_type": "code",
   "execution_count": null,
   "metadata": {},
   "outputs": [],
   "source": [
    "import pandas as pd\n",
    "import matplotlib.pyplot as plt\n",
    "import numpy as np\n",
    "from numpy.polynomial import polynomial as nppoly\n",
    "import matplotlib.cm as cm\n",
    "import matplotlib.axes as axes\n",
    "from matplotlib.gridspec import GridSpec\n",
    "\n",
    "\n",
    "%matplotlib inline\n",
    "%config InlineBackend.figure_format = 'svg'"
   ]
  },
  {
   "cell_type": "code",
   "execution_count": null,
   "metadata": {},
   "outputs": [],
   "source": [
    "def despine(ax: axes.Axes) -> None:\n",
    "    '''\n",
    "    Remove the top and right spines of a graph.\n",
    "\n",
    "    Used to enforce standard and *correct* style. There is only one x,\n",
    "    and one y axis, left and bottom, therefore there should only be\n",
    "    these axes.\n",
    "    '''\n",
    "    for spine in 'right', 'top':\n",
    "        ax.spines[spine].set_visible(False)"
   ]
  },
  {
   "cell_type": "code",
   "execution_count": null,
   "metadata": {},
   "outputs": [],
   "source": [
    "aq1 = pd.read_csv('aq1.csv')\n",
    "aq2 = pd.read_csv('aq2.csv')\n",
    "aq3 = pd.read_csv('aq3.csv')\n",
    "aq4 = pd.read_csv('aq4.csv')"
   ]
  },
  {
   "cell_type": "code",
   "execution_count": null,
   "metadata": {},
   "outputs": [],
   "source": [
    "title = \"Anscombe's Quartet\"\n",
    "titles =[('Data set I', 'Data set II'), ('Data set III', 'Dataset IV')]\n",
    "yaxislabel = 'Y'\n",
    "xaxislabel = 'X'\n",
    "xlim = [2, 20]\n",
    "ylim = [2, 14]\n",
    "fighw = [8, 6]"
   ]
  },
  {
   "cell_type": "code",
   "execution_count": null,
   "metadata": {},
   "outputs": [],
   "source": [
    "c = cm.Paired.colors\n",
    "# c[0] c[1] ... c[11]\n",
    "# See \"paired\" in \"qualitative colormaps\"\n",
    "# https://matplotlib.org/tutorials/colors/colormaps.html"
   ]
  },
  {
   "cell_type": "code",
   "execution_count": null,
   "metadata": {},
   "outputs": [],
   "source": [
    "df = [(aq1, aq2), (aq3, aq4)]\n",
    "fig = plt.figure(figsize=(fighw))\n",
    "fig.suptitle(title, fontweight=\"bold\")\n",
    "gs = GridSpec(2, 2, figure=fig)\n",
    "for i in range(2):\n",
    "    for j in range(2):\n",
    "        ax = fig.add_subplot(gs[i, j])\n",
    "        ax.scatter(df[i][j]['x'], df[i][j]['y'], \\\n",
    "           color=c[0], linewidth=0, linestyle=\"-\", s=10, \\\n",
    "           label=\"I\")\n",
    "        m, b = np.polyfit(df[i][j]['x'], df[i][j]['y'], 1)\n",
    "        ax.plot(df[i][j]['x'], m*df[i][j]['x'] + \\\n",
    "                b, '-', color=c[1])\n",
    "        ax.set_ylim(ylim)\n",
    "        ax.set_xlim(xlim)\n",
    "        ax.set_title(titles[i][j])\n",
    "        ax.set_ylabel(yaxislabel)\n",
    "        ax.set_xlabel(xaxislabel)\n",
    "        despine(ax)\n",
    "plt.tight_layout(pad=3)\n",
    "plt.savefig('aq_gridspec.svg')"
   ]
  },
  {
   "cell_type": "code",
   "execution_count": null,
   "metadata": {},
   "outputs": [],
   "source": [
    "fig, ax = plt.subplots(figsize=(fighw))\n",
    "despine(ax)\n",
    "b, m = nppoly.polyfit(aq1['x'], aq1['y'], 1)\n",
    "ax.plot(aq1['x'], m*aq1['x'] + b, '-', color=c[1])\n",
    "ax.scatter(aq1['x'], aq1['y'], \\\n",
    "           color=c[0], \\\n",
    "           linewidth=0, linestyle=\"-\", s=10, label=\"I\")\n",
    "ax.set_ylim(ylim)\n",
    "ax.set_xlim(xlim)\n",
    "ax.text(4, 13, 'Data set I', fontsize=10)\n",
    "ax.set_ylabel(yaxislabel)\n",
    "ax.set_xlabel(xaxislabel)\n",
    "ax.set_title(title, fontweight=\"bold\")\n",
    "ax.figure.savefig('aq1.svg', format='svg')"
   ]
  },
  {
   "cell_type": "code",
   "execution_count": null,
   "metadata": {},
   "outputs": [],
   "source": [
    "fig, ax = plt.subplots(figsize=(8,6))\n",
    "despine(ax)\n",
    "b, m = nppoly.polyfit(aq2['x'], aq2['y'], 1)\n",
    "ax.plot(aq2['x'], m*aq2['x'] + b, '-', color=c[1])\n",
    "ax.scatter(aq2['x'], aq2['y'], \\\n",
    "           color=c[0], \\\n",
    "           linewidth=0, linestyle=\"-\", s=10, label=\"II\")\n",
    "ax.set_ylim(ylim)\n",
    "ax.set_xlim(xlim)\n",
    "ax.text(4, 13, 'Data set II', fontsize=10)\n",
    "ax.set_ylabel(yaxislabel)\n",
    "ax.set_xlabel(xaxislabel)\n",
    "ax.set_title(title, fontweight=\"bold\")\n",
    "ax.figure.savefig('aq2.svg', format='svg')"
   ]
  },
  {
   "cell_type": "code",
   "execution_count": null,
   "metadata": {},
   "outputs": [],
   "source": [
    "fig, ax =plt.subplots(figsize=(8,6))\n",
    "despine(ax)\n",
    "b, m = nppoly.polyfit(aq3['x'], aq3['y'], 1)\n",
    "ax.plot(aq3['x'], m*aq3['x'] + b, '-', color=c[1])\n",
    "ax.scatter(aq3['x'], aq3['y'], \\\n",
    "           color=c[0], \\\n",
    "           linewidth=0, linestyle=\"-\", s=10, label=\"III\")\n",
    "ax.set_ylim(ylim)\n",
    "ax.set_xlim(xlim)\n",
    "ax.text(4, 13, 'Data set III', fontsize=10)\n",
    "ax.set_ylabel(yaxislabel)\n",
    "ax.set_xlabel(xaxislabel)\n",
    "ax.set_title(title, fontweight=\"bold\")\n",
    "ax.figure.savefig('aq3.svg', format='svg')"
   ]
  },
  {
   "cell_type": "code",
   "execution_count": null,
   "metadata": {},
   "outputs": [],
   "source": [
    "fig, ax = plt.subplots(figsize=(8,6))\n",
    "despine(ax)\n",
    "b, m = nppoly.polyfit(aq4['x'], aq4['y'], 1)\n",
    "ax.plot(aq4['x'], m*aq4['x'] + b, '-', color=c[1])\n",
    "ax.scatter(aq4['x'], aq4['y'], \\\n",
    "           color=c[0], \\\n",
    "           linewidth=0, linestyle=\"-\", s=10, label=\"IV\")\n",
    "ax.set_ylim(ylim)\n",
    "ax.set_xlim(xlim)\n",
    "ax.text(4, 13, 'Data set IV', fontsize=10)\n",
    "ax.set_ylabel(yaxislabel)\n",
    "ax.set_xlabel(xaxislabel)\n",
    "ax.set_title(title, fontweight=\"bold\")\n",
    "ax.figure.savefig('aq4.svg', format='svg')"
   ]
  },
  {
   "cell_type": "markdown",
   "metadata": {},
   "source": [
    "# References\n",
    "\n",
    "[Wikipedia Anscombe's Quartet](https://en.wikipedia.org/wiki/Anscombe%27s_quartet)\n",
    "\n",
    "[matplotlib API overview](https://matplotlib.org/api/index.html)\n",
    "\n",
    "[matplotlib API index](https://matplotlib.org/genindex.html)\n",
    "\n",
    "[matplotlib.tight_layout module](https://matplotlib.org/api/tight_layout_api.html#module-matplotlib.tight_layout)"
   ]
  }
 ],
 "metadata": {
  "kernelspec": {
   "display_name": "Python 3",
   "language": "python",
   "name": "python3"
  },
  "language_info": {
   "codemirror_mode": {
    "name": "ipython",
    "version": 3
   },
   "file_extension": ".py",
   "mimetype": "text/x-python",
   "name": "python",
   "nbconvert_exporter": "python",
   "pygments_lexer": "ipython3",
   "version": "3.7.4"
  },
  "varInspector": {
   "cols": {
    "lenName": 16,
    "lenType": 16,
    "lenVar": 40
   },
   "kernels_config": {
    "python": {
     "delete_cmd_postfix": "",
     "delete_cmd_prefix": "del ",
     "library": "var_list.py",
     "varRefreshCmd": "print(var_dic_list())"
    },
    "r": {
     "delete_cmd_postfix": ") ",
     "delete_cmd_prefix": "rm(",
     "library": "var_list.r",
     "varRefreshCmd": "cat(var_dic_list()) "
    }
   },
   "types_to_exclude": [
    "module",
    "function",
    "builtin_function_or_method",
    "instance",
    "_Feature"
   ],
   "window_display": false
  }
 },
 "nbformat": 4,
 "nbformat_minor": 2
}
