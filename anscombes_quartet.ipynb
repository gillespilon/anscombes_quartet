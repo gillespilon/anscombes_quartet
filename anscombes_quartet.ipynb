{
 "cells": [
  {
   "cell_type": "markdown",
   "metadata": {},
   "source": [
    "# Anscombe's quartet"
   ]
  },
  {
   "cell_type": "markdown",
   "metadata": {},
   "source": [
    "# Document\n",
    "\n",
    "<table align=\"left\">\n",
    "    <tr>\n",
    "        <th class=\"text-align:left\">Title</th>\n",
    "        <td class=\"text-align:left\">Anscombe's quartet</td>\n",
    "    </tr>\n",
    "    <tr>\n",
    "        <th class=\"text-align:left\">Last modified</th>\n",
    "        <td class=\"text-align:left\">2019-11-12</td>\n",
    "    </tr>\n",
    "    <tr>\n",
    "        <th class=\"text-align:left\">Author</th>\n",
    "        <td class=\"text-align:left\">Gilles Pilon <gillespilon13@gmail.com></td>\n",
    "    </tr>\n",
    "    <tr>\n",
    "        <th class=\"text-align:left\">Status</th>\n",
    "        <td class=\"text-align:left\">Active</td>\n",
    "    </tr>\n",
    "    <tr>\n",
    "        <th class=\"text-align:left\">Type</th>\n",
    "        <td class=\"text-align:left\">Jupyter notebook</td>\n",
    "    </tr>\n",
    "    <tr>\n",
    "        <th class=\"text-align:left\">Created</th>\n",
    "        <td class=\"text-align:left\">2017-07-30</td>\n",
    "    </tr>\n",
    "    <tr>\n",
    "        <th class=\"text-align:left\">File name</th>\n",
    "        <td class=\"text-align:left\">anscombes_quartet.ipynb</td>\n",
    "    </tr>\n",
    "    <tr>\n",
    "        <th class=\"text-align:left\">Other files required</th>\n",
    "        <td class=\"text-align:left\">anscombes_quartet_1.csv<br />anscombes_quartet_2.csv<br />anscombes_quartet_3.csv<br />anscombes_quartet_4.csv</td>\n",
    "    </tr>\n",
    "</table>"
   ]
  },
  {
   "cell_type": "code",
   "execution_count": null,
   "metadata": {},
   "outputs": [],
   "source": [
    "import pandas as pd\n",
    "import matplotlib.pyplot as plt\n",
    "import numpy as np\n",
    "from numpy.polynomial import polynomial as nppoly\n",
    "import matplotlib.cm as cm\n",
    "import matplotlib.axes as axes\n",
    "\n",
    "\n",
    "%matplotlib inline\n",
    "%config InlineBackend.figure_format = 'svg'"
   ]
  },
  {
   "cell_type": "code",
   "execution_count": null,
   "metadata": {},
   "outputs": [],
   "source": [
    "def despine(ax: axes.Axes) -> None:\n",
    "    '''\n",
    "    Remove the top and right spines of a graph.\n",
    "\n",
    "    Used to enforce standard and *correct* style. There is only one x, and one\n",
    "    y axis, left and bottom, therefore there should only be these axes.\n",
    "    '''\n",
    "    for spine in 'right', 'top':\n",
    "        ax.spines[spine].set_visible(False)"
   ]
  },
  {
   "cell_type": "code",
   "execution_count": null,
   "metadata": {},
   "outputs": [],
   "source": [
    "anscombes_quartet_1 = pd.read_csv('anscombes_quartet_1.csv')\n",
    "anscombes_quartet_2 = pd.read_csv('anscombes_quartet_2.csv')\n",
    "anscombes_quartet_3 = pd.read_csv('anscombes_quartet_3.csv')\n",
    "anscombes_quartet_4 = pd.read_csv('anscombes_quartet_4.csv')"
   ]
  },
  {
   "cell_type": "code",
   "execution_count": null,
   "metadata": {},
   "outputs": [],
   "source": [
    "title = \"Anscombe's Quartet\"\n",
    "yaxislabel = 'Y'\n",
    "xaxislabel = 'X'"
   ]
  },
  {
   "cell_type": "code",
   "execution_count": null,
   "metadata": {},
   "outputs": [],
   "source": [
    "c = cm.Paired.colors\n",
    "# c[0] c[1] ... c[11]\n",
    "# See \"paired\" in \"qualitative colormaps\"\n",
    "# https://matplotlib.org/tutorials/colors/colormaps.html"
   ]
  },
  {
   "cell_type": "code",
   "execution_count": null,
   "metadata": {},
   "outputs": [],
   "source": [
    "# This code is incomplete. I am simplifying the code.\n",
    "plt.figure(figsize=(8, 6), dpi=100, frameon=True)\n",
    "plt.suptitle(title, fontweight=\"bold\")\n",
    "for i in range(2):\n",
    "    for j in range(2):\n",
    "        ax = plt.subplot2grid((2, 2), (i, j))\n",
    "        ax.scatter(range(20), range(20) + \\\n",
    "                   np.random.randint(-5, 5, 20), color=c[0])\n",
    "        ax.set_ylabel(yaxislabel)\n",
    "        ax.set_xlabel(xaxislabel)"
   ]
  },
  {
   "cell_type": "code",
   "execution_count": null,
   "metadata": {},
   "outputs": [],
   "source": [
    "#Create the container, 1200 x 900 pixels\n",
    "plt.figure(figsize=(8, 6), dpi=100,frameon=True)\n",
    "plt.suptitle(title, fontweight=\"bold\")\n",
    "ax1 = plt.subplot2grid((2,2), (0,0))\n",
    "ax1.scatter(anscombes_quartet_1['x'], anscombes_quartet_1['y'], \\\n",
    "            color=c[0], linewidth=0, linestyle=\"-\", s=10, \\\n",
    "            label=\"I\")\n",
    "#Calculate the linear regression model\n",
    "m1, b1 = np.polyfit(anscombes_quartet_1['x'], \\\n",
    "                    anscombes_quartet_1['y'], 1)\n",
    "ax1.plot(anscombes_quartet_1['x'], m1*anscombes_quartet_1['x'] + \\\n",
    "         b1, '-', color=c[1], \\\n",
    "        label=\"Linear\")\n",
    "ax1.set_ylabel(yaxislabel)\n",
    "ax1.set_xlabel(xaxislabel)\n",
    "despine(ax1)\n",
    "ax1.set_ylim([2, 14])\n",
    "ax1.set_xlim([2, 20])\n",
    "ax1.set_title('Data set I', fontsize=10)\n",
    "ax2 = plt.subplot2grid((2,2), (0,1))\n",
    "ax2.scatter(anscombes_quartet_2['x'], anscombes_quartet_2['y'], \\\n",
    "            color=c[0], linewidth=0, linestyle=\"-\", s=10, \\\n",
    "            label=\"II\")\n",
    "m2, b2 = np.polyfit(anscombes_quartet_2['x'], \\\n",
    "                    anscombes_quartet_2['y'], 1)\n",
    "ax2.plot(anscombes_quartet_2['x'], m2*anscombes_quartet_2['x'] + \\\n",
    "         b2, '-', color=c[1])\n",
    "ax2.set_ylabel(yaxislabel)\n",
    "ax2.set_xlabel(xaxislabel)\n",
    "despine(ax2)\n",
    "ax2.set_ylim([2, 14])\n",
    "ax2.set_xlim([2, 20])\n",
    "ax2.set_title('Data set II', fontsize=10)\n",
    "ax3 = plt.subplot2grid((2,2), (1,0))\n",
    "m3, b3 = np.polyfit(anscombes_quartet_3['x'], \\\n",
    "                    anscombes_quartet_3['y'], 1)\n",
    "ax3.scatter(anscombes_quartet_3['x'], anscombes_quartet_3['y'], \\\n",
    "            color=c[0], \\\n",
    "           linewidth=0, linestyle=\"-\", s=10, label=\"III\")\n",
    "ax3.plot(anscombes_quartet_3['x'], m3*anscombes_quartet_3['x'] + \\\n",
    "         b3, '-', color=c[1])\n",
    "ax3.set_ylabel(yaxislabel)\n",
    "ax3.set_xlabel(xaxislabel)\n",
    "despine(ax3)\n",
    "ax3.set_ylim([2, 14])\n",
    "ax3.set_xlim([2, 20])\n",
    "ax3.set_title('Data set III', fontsize=10)\n",
    "ax4 = plt.subplot2grid((2,2), (1,1))\n",
    "ax4.scatter(anscombes_quartet_4['x'], anscombes_quartet_4['y'], \\\n",
    "            color=c[0], linewidth=0, linestyle=\"-\", s=10, \\\n",
    "            label=\"IV\")\n",
    "m4, b4 = np.polyfit(anscombes_quartet_4['x'], \\\n",
    "                    anscombes_quartet_4['y'], 1)\n",
    "ax4.set_ylabel(yaxislabel)\n",
    "ax4.set_xlabel(xaxislabel)\n",
    "despine(ax4)\n",
    "ax4.set_ylim([2, 14])\n",
    "ax4.set_xlim([2, 20])\n",
    "ax4.set_title('Data set IV', fontsize=10)\n",
    "ax4.plot(anscombes_quartet_4['x'], m4*anscombes_quartet_4['x'] + \\\n",
    "         b4, '-', color=c[1])\n",
    "plt.savefig('anscombes_quartet.svg', format='svg')\n",
    "plt.tight_layout()"
   ]
  },
  {
   "cell_type": "code",
   "execution_count": null,
   "metadata": {},
   "outputs": [],
   "source": [
    "fig, ax5 = plt.subplots(figsize=(8, 6), dpi=100)\n",
    "despine(ax5)\n",
    "ax5.tick_params(direction='out')\n",
    "ax5.xaxis.set_ticks_position('bottom')\n",
    "ax5.yaxis.set_ticks_position('left')\n",
    "b5, m5 = nppoly.polyfit(anscombes_quartet_1['x'], \\\n",
    "                        anscombes_quartet_1['y'], 1)\n",
    "ax5.plot(anscombes_quartet_1['x'], m5*anscombes_quartet_1['x'] + \\\n",
    "         b5, '-', color=c[1])\n",
    "ax5.scatter(anscombes_quartet_1['x'], anscombes_quartet_1['y'], \\\n",
    "            color=c[0], \\\n",
    "            linewidth=0, linestyle=\"-\", s=10, label=\"I\")\n",
    "ax5.axis([2, 20, 2, 14])\n",
    "ax5.text(4, 13, 'Data set I', fontsize=10)\n",
    "ax5.set_ylabel(yaxislabel)\n",
    "ax5.set_xlabel(xaxislabel)\n",
    "ax5.set_title(title, fontweight=\"bold\")\n",
    "ax5.figure.savefig('anscombes_quartet_1.svg', format='svg')"
   ]
  },
  {
   "cell_type": "code",
   "execution_count": null,
   "metadata": {},
   "outputs": [],
   "source": [
    "fig, ax6 = plt.subplots(figsize=(8,6), dpi=100)\n",
    "despine(ax6)\n",
    "ax6.tick_params(direction='out')\n",
    "ax6.xaxis.set_ticks_position('bottom')\n",
    "ax6.yaxis.set_ticks_position('left')\n",
    "b6, m6 = nppoly.polyfit(anscombes_quartet_2['x'], \\\n",
    "                        anscombes_quartet_2['y'], 1)\n",
    "ax6.plot(anscombes_quartet_2['x'], m6*anscombes_quartet_2['x'] + \\\n",
    "         b6, '-', color=c[1])\n",
    "ax6.scatter(anscombes_quartet_2['x'], anscombes_quartet_2['y'], \\\n",
    "            color=c[0], \\\n",
    "            linewidth=0, linestyle=\"-\", s=10, label=\"II\")\n",
    "ax6.axis([2, 20, 2, 14])\n",
    "ax6.text(4, 13, 'Data set II', fontsize=10)\n",
    "ax6.set_ylabel(yaxislabel)\n",
    "ax6.set_xlabel(xaxislabel)\n",
    "ax6.set_title(title, fontweight=\"bold\")\n",
    "ax6.figure.savefig('anscombes_quartet_2.svg', format='svg')"
   ]
  },
  {
   "cell_type": "code",
   "execution_count": null,
   "metadata": {},
   "outputs": [],
   "source": [
    "fig, ax7 =plt.subplots(figsize=(8,6), dpi=100)\n",
    "despine(ax7)\n",
    "ax7.tick_params(direction='out')\n",
    "ax7.xaxis.set_ticks_position('bottom')\n",
    "ax7.yaxis.set_ticks_position('left')\n",
    "b7, m7 = nppoly.polyfit(anscombes_quartet_3['x'], \\\n",
    "                        anscombes_quartet_3['y'], 1)\n",
    "ax7.plot(anscombes_quartet_3['x'], m7*anscombes_quartet_3['x'] + \\\n",
    "         b7, '-', color=c[1])\n",
    "ax7.scatter(anscombes_quartet_3['x'], anscombes_quartet_3['y'], \\\n",
    "            color=c[0], \\\n",
    "            linewidth=0, linestyle=\"-\", s=10, label=\"III\")\n",
    "ax7.axis([2, 20, 2, 14])\n",
    "ax7.text(4, 13, 'Data set III', fontsize=10)\n",
    "ax7.set_ylabel(yaxislabel)\n",
    "ax7.set_xlabel(xaxislabel)\n",
    "ax7.set_title(title, fontweight=\"bold\")\n",
    "ax7.figure.savefig('anscombes_quartet_3.svg', format='svg')"
   ]
  },
  {
   "cell_type": "code",
   "execution_count": null,
   "metadata": {},
   "outputs": [],
   "source": [
    "fig, ax8 = plt.subplots(figsize=(8,6), dpi=100)\n",
    "despine(ax)\n",
    "ax8.tick_params(direction='out')\n",
    "ax8.xaxis.set_ticks_position('bottom')\n",
    "ax8.yaxis.set_ticks_position('left')\n",
    "b8, m8 = nppoly.polyfit(anscombes_quartet_4['x'], \\\n",
    "                        anscombes_quartet_4['y'], 1)\n",
    "ax8.plot(anscombes_quartet_4['x'], m8*anscombes_quartet_4['x'] + \\\n",
    "         b8, '-', color=c[1])\n",
    "ax8.scatter(anscombes_quartet_4['x'], anscombes_quartet_4['y'], \\\n",
    "            color=c[0], \\\n",
    "           linewidth=0, linestyle=\"-\", s=10, label=\"IV\")\n",
    "ax8.axis([2, 20, 2, 14])\n",
    "ax8.text(4, 13, 'Date set IV', fontsize=10)\n",
    "ax8.set_ylabel(yaxislabel)\n",
    "ax8.set_xlabel(xaxislabel)\n",
    "ax8.set_title(title, fontweight=\"bold\")\n",
    "ax8.figure.savefig('anscombes_quartet_4.svg', format='svg')"
   ]
  },
  {
   "cell_type": "markdown",
   "metadata": {},
   "source": [
    "# References\n",
    "\n",
    "[Wikipedia Anscombe's Quartet](https://en.wikipedia.org/wiki/Anscombe%27s_quartet)"
   ]
  }
 ],
 "metadata": {
  "kernelspec": {
   "display_name": "Python 3",
   "language": "python",
   "name": "python3"
  },
  "language_info": {
   "codemirror_mode": {
    "name": "ipython",
    "version": 3
   },
   "file_extension": ".py",
   "mimetype": "text/x-python",
   "name": "python",
   "nbconvert_exporter": "python",
   "pygments_lexer": "ipython3",
   "version": "3.7.4"
  },
  "varInspector": {
   "cols": {
    "lenName": 16,
    "lenType": 16,
    "lenVar": 40
   },
   "kernels_config": {
    "python": {
     "delete_cmd_postfix": "",
     "delete_cmd_prefix": "del ",
     "library": "var_list.py",
     "varRefreshCmd": "print(var_dic_list())"
    },
    "r": {
     "delete_cmd_postfix": ") ",
     "delete_cmd_prefix": "rm(",
     "library": "var_list.r",
     "varRefreshCmd": "cat(var_dic_list()) "
    }
   },
   "types_to_exclude": [
    "module",
    "function",
    "builtin_function_or_method",
    "instance",
    "_Feature"
   ],
   "window_display": false
  }
 },
 "nbformat": 4,
 "nbformat_minor": 2
}
